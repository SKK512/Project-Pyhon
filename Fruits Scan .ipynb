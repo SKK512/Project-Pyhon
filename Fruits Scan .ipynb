{
 "cells": [
  {
   "cell_type": "code",
   "execution_count": 2,
   "id": "6e46d3f3",
   "metadata": {},
   "outputs": [
    {
     "name": "stdout",
     "output_type": "stream",
     "text": [
      "First fruit: apple\n",
      "Last fruit: mango\n",
      "Second and third fruits: ['banana', 'orange']\n",
      "Number of fruits: 5\n",
      "\"apple\" is present in the list: True\n",
      "Final fruits_list: ['apple', 'grape', 'kiwi', 'pear', 'watermelon']\n",
      "Number of kiwis: 1\n"
     ]
    }
   ],
   "source": [
    "# Create an empty list called fruits_list.\n",
    "fruits_list = []\n",
    "\n",
    "# Add \"apple\", \"banana\", \"orange\", \"grape\", and \"mango\" to the fruits_list.\n",
    "fruits_list.extend([\"apple\", \"banana\", \"orange\", \"grape\", \"mango\"])\n",
    "\n",
    "# Print the first, last, and second & third fruits in the list using slicing.\n",
    "print(\"First fruit:\", fruits_list[0])\n",
    "print(\"Last fruit:\", fruits_list[-1])\n",
    "print(\"Second and third fruits:\", fruits_list[1:3])\n",
    "# Print the number of fruits in the list.\n",
    "print(\"Number of fruits:\", len(fruits_list))\n",
    "\n",
    "# Replace the third fruit with \"pear\" in the list.\n",
    "fruits_list[2] = \"pear\"\n",
    "\n",
    "# Check if \"apple\" is present in the fruits_list and print the result.\n",
    "print(\"\\\"apple\\\" is present in the list:\", \"apple\" in fruits_list)\n",
    "\n",
    "# Remove \"banana\" and the last fruit from the list.\n",
    "fruits_list.remove(\"banana\")\n",
    "fruits_list.pop()\n",
    "\n",
    "# Create another list additional_fruits with \"watermelon\" and \"kiwi\", then concatenate it with fruits_list.\n",
    "additional_fruits = [\"watermelon\", \"kiwi\"]\n",
    "fruits_list += additional_fruits\n",
    "\n",
    "# Sort the fruits_list in alphabetical order.\n",
    "fruits_list.sort()\n",
    "\n",
    "# Count the number of times \"kiwi\" appears in the fruits_list.\n",
    "kiwi_count = fruits_list.count(\"kiwi\")\n",
    "\n",
    "# Print the final fruits_list and the count of \"kiwi\".\n",
    "print(\"Final fruits_list:\", fruits_list)\n",
    "print(\"Number of kiwis:\", kiwi_count)\n"
   ]
  }
 ],
 "metadata": {
  "kernelspec": {
   "display_name": "Python 3 (ipykernel)",
   "language": "python",
   "name": "python3"
  },
  "language_info": {
   "codemirror_mode": {
    "name": "ipython",
    "version": 3
   },
   "file_extension": ".py",
   "mimetype": "text/x-python",
   "name": "python",
   "nbconvert_exporter": "python",
   "pygments_lexer": "ipython3",
   "version": "3.9.7"
  }
 },
 "nbformat": 4,
 "nbformat_minor": 5
}
